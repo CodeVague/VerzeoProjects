{
 "cells": [
  {
   "cell_type": "markdown",
   "metadata": {},
   "source": [
    "### Install Dependencies"
   ]
  },
  {
   "cell_type": "code",
   "execution_count": null,
   "metadata": {},
   "outputs": [],
   "source": [
    "! pip install gtts"
   ]
  },
  {
   "cell_type": "markdown",
   "metadata": {},
   "source": [
    "### Import libraries"
   ]
  },
  {
   "cell_type": "code",
   "execution_count": 1,
   "metadata": {},
   "outputs": [],
   "source": [
    "from gtts import gTTS\n",
    "import IPython"
   ]
  },
  {
   "cell_type": "markdown",
   "metadata": {},
   "source": [
    "### Choose text language and get user input\n",
    "#### If user input is invalid, use hard-coded text"
   ]
  },
  {
   "cell_type": "code",
   "execution_count": 2,
   "metadata": {},
   "outputs": [
    {
     "name": "stdout",
     "output_type": "stream",
     "text": [
      "Choose an input language:\n",
      "1 for English Text \n",
      "2 for Hindi Text\n",
      "1\n"
     ]
    }
   ],
   "source": [
    "option = str(input(\"Choose an input language:\\n1 for English Text \\n2 for Hindi Text\\n\"))\n",
    "\n",
    "if option=='1':\n",
    "    text = input(\"Enter English Text\")\n",
    "    language='en'\n",
    "elif option=='2':\n",
    "    text = input(\"Enter Hindi Text\")\n",
    "    language='hi'\n",
    "else:\n",
    "    text = \"You entered an incorrect option. The default is english\"\n",
    "    language='en'"
   ]
  },
  {
   "cell_type": "markdown",
   "metadata": {},
   "source": [
    "### Get output"
   ]
  },
  {
   "cell_type": "code",
   "execution_count": 4,
   "metadata": {},
   "outputs": [],
   "source": [
    "output = gTTS(text=text, lang=language, slow=False)"
   ]
  },
  {
   "cell_type": "markdown",
   "metadata": {},
   "source": [
    "### Save Output file as mp3"
   ]
  },
  {
   "cell_type": "code",
   "execution_count": 5,
   "metadata": {},
   "outputs": [],
   "source": [
    "output.save(\"output.mp3\")"
   ]
  },
  {
   "cell_type": "markdown",
   "metadata": {},
   "source": [
    "### Listen to the output using IPython"
   ]
  },
  {
   "cell_type": "code",
   "execution_count": 6,
   "metadata": {},
   "outputs": [
    {
     "data": {
      "text/html": [
       "\n",
       "                <audio  controls=\"controls\" >\n",
       "                    <source src=\"data:audio/mpeg;base64,//NExAAR+XYUAU8QAGdsLYLYJoPQdDJl4yRNXfv4/vff/////5CEJ/Oc9CEfac50AzoRlAxaAYtCEU50AwMWfEBxmCHEDvKAh3flHfxOOB94IBj4IBS7hZ4G5gtQBLVO//NExAsUivqMAZRQADxDaxYPMH//+n//2/uv2MMP2fdBYPXUiBeHALhoS9vyc9rGZhKa43EwuMhDN/+Y1XU+YzTiBiilrI7En//p3rZX+ToosA2VVSqbmJMAYSMF9S2Y//NExAsTAaqkAdQQAIrogQ2OoFw8qpP//////zvyK7ox1K6A2DlAAKoIUoczGEEDkQhCc+YWNFA0HgsYYJtNJciOaoJPQj6s5EYHY8Wofid7ITT40F2nUrM0Jc9zsSii//NExBIWWdKkANBQlMS0P+f/Ll+k8NLnzJ570Sf4hoIeGQ2Hh1lSQljGu74q0cdFhwrLJDzyM4ljRYWHSYLuQHpVpFgr4s1CUK2kA4XmGzAu0kYESoF5UgsCfhN8qm+J//NExAsRUY6wAMhQlCkH8/CbXXkuX/+vEz5wjvZARkDlNFdAaEizPN8XfNpE8fFftotmsfeFlEml3Id0Rf/Sv/F3LByx/pqqpKleMEDkn1P/NQensZcC839qyzn+m9/7//NExBgYEr6oANJKuLf+nv/r/+5+qVbhDSISRXAYGnNTQikoYRPCqSBXnIur003vU0yHHOUDiqOx0cjnZ7ihEfbt6qit//3ZrP9/8iqjiSh8qyqw4qp/dVYIHfxxaM0l//NExAoSoaasAMlOlCsLCpXbGeYXshPEPV/bRiaiAAEH0is1ccfoNUyACTplfbqvr828mUMqXKQxtEKFV9lb/7kaNuNPCJjnS1QJOaEqpu8iYrOJSwmvYS3UjJv5sC6J//NExBIScg64AMiEmNH5X/zK0iuDQr15/6UQUhlp3//17dDqVQhG88kWdToRCECCA54cXIAemXEH/aKCBJtYXDxQEHeudLCsAkfac5E7XHXH///84b/5y/////////////NExBsVox7EAFhMvP//37Mj///+/85/T5aRznGJ2eUSCGPakANI9Nbdi+Pcnp5UtyF1LHlZv2WeMiFVnTJsQLJqJkyZOkJTuiwF////////7r+2//+vr+JvvUoZQ02k//NExBcQgyLEAAgQvCXm2806xVYqh5pp9ikOHY9ZZBWhqA2co1Rxh6XFwUakFKVseNEoOjiQ6Nsdt//////+///////////////j7/556n3iqu0yHHLMSaQPZ5XeMdSM//NExCgSkyLAABBQvFDlHO2KoWHIyVEwgzmC51iXx/Q9yyXJPEQVoogYFID0Oz2qAi6t//////Hx/pfUVaS8vwOzIRRAoPDgnEySWI7kA4IpZLMMEM4+mXp4IFrNLTZf//NExDARgxq8ABAQveR7RPDSc0sjuNHWTRMo3AoVEaCxQ+ZB/////3/////////////71/3qfQ8bQ5LjgniCDRMIBgT04mFXAVEMOEsyizrlCtbju4OXzRtQw9Ppiirn//NExD0SYsrAAAhQubHbDaY40K/79vXVCUp7NTBuC4IQrIrI3q9z3/v//8AY45/////v///5WQz5lIVDGZHLqHSwGHgKALKIjkMJAELTHKY4iKoYaKw1y1J1lMJh2JTp//NExEYSSj60AHhKuFOpDtWDohHltDtQDPU5XRlpm16Gr2RpnTdREiJJWHlzhkKGwzIjnIApwvBgTnggPq3/9PXRQiqiHvVP/60oV3RwVTW7aIx2VBZgFG1KbFQ3IdNt//NExE8SGeaYANKEmLKKX6vN0O5hk2HbiiMrjA9XpqrYRVrwWiqYSS3FR///1dTMW6Od6f/6poZHVIAdkR7hwbcKmQksNVaA4jNf//9Nivew0b3rYbVkLjoC8KSxDjzP//NExFkRqbacAMoElJ7yCrVEDbDyGUcAQDGK///s9c6SkF12//9fnRHOd4QH40SKpBIxxcg89dYeKElsLlWQ92m8bVLOrSVHl1sMaCNWt4Zs8tvwpyZHWOiTsInzKfP8//NExGUQsd6cAMlKmOtc+KXPqXyL2/+b+m7+Bj/UuMSPVPHe3ViTZnOJZ4r94YFYrD5DDZnDEsY5DLuxuT2x/ud5U/HfsbHuHebW5XOkfEBzeMCsZKv53kjx5WG/j33i//NExHUh2xqgAMDevZfFKZvHriJmeJ/2O9+xucBkvgoRx2etGt/56+rls0DmZxeP12ybE5e6/zfed7j2rvFoVdV1DgbSLAyl8sqo09T3gYRYucVzIQjEAeRwE4eN6LNU//NExEAf8yKoABBevLuayEIvCBOlkOeVvPh1FZHHbhHb4algMln769sxn6tneLi7kuHerZc8vbsUWBBZJLwLyMMBbYojtzPFklWXcuJr////////74675nqXc8YkQ0Vc//NExBMSQw7AAAgQuQxjRw0IA4CIIQyYPkPh5KoUIilA6ilCOZDPdG6PWTHiV1pLqdUdJ67af5q7RoG1Mw48ZDkxWM/b9v/jRd78Nt2sLv4n0CKQJYDFHECZ56nL2ghR//NExB0QyxrAAAAMvfMm4hSYpg0W/zH74Q8ylhkFFn7v79s959z22YrYlu+Q3i3IED7H1Rf///////////bW9dt+z2RONR8oonU/1yJEFGAFTVeHaURUdTVrmpfvLb3r//NExCwR0xK4AAgMuX1VHEiWeUf/39Vry1UUk85M96uf6eZ/ajQlQ1UAQyh5V///////////T9H01VylQ0SGoJB4WQPC1Q6rOgswGQGd0o4wWLLiIqxlGirX1apKD2Cp//NExDcROl58AUUoACAxUyp/Ss6JUtqU5RIsFqaXj5N99+czyjTBv/mbUJGrrcdxBSX/eMkN4iY7n/42CJjaG8I//Z1Fo2JwhROAXPizwtAAFH3Uyh4NicNGUbhNoJyC//NExEUiIypwAZiYAJQKVC7wbGAMgL19boOfZNNrhi8cQyYlMhg4iZLxk1//W9b+8mygRh4uEYWnKBKkTGT/////y+5WIoThAC6Vz5pJg1N6izBYoYLXG9nfcj/s/3P1//NExA8Viaa8AcYoAfr/9CM53Z0dukxXZkLVFWV2Mpgk4eFgFVhcPACJqdBqsLOdg+oxjwyXEHtJfNvXhHHYf///XS8JSTmW1lrrb6mvIKFctOoF1edmZCQUDqwxAzc0//NExAsQ+aa0AMBElNFGKM4WrL6///H4wiopS/v7/zf6spZjBnCgJhRsrdHoGPVuqdIwWf576n6n1A09VQdesFXQVDtYKoIirlF7TeYE1YHdZ0TAhw8mwCC6IrLoPuSS//NExBoRGQKEANzKcDKBW5DFLqRapQ7iBWxg/9SG4mIzkCxVxEcnP8TOYWeS5RDjn////9brfTVPCUvAKgprHmZuCssawYKQHzGJEGQfDiyyZGCcgeIDOEZ51gLoZEsY//NExCgRmbKEANnElHV26t0fp6dBRilRv/7/7dUN2T6AjH/////uFGdYFSpuN+GUMjNsgNJkoVghgTONQgcgQHaUfCgc8n9GQvOaKo2ZWAUUmVR6f29///qZVzn6///q//NExDQSiuKAANqEuNVXK7TN0vK3//////////9FqFbXIvRVEYBkSipIHARaAVJo2kQSAgwAqQU7E1IHbq7RWKzhUbFI7fffVxMZh9nKr19oCOzI/Vm/+9NCgI6/9nkp//NExDwRsQp4AOYEcDCdAuP//////+qpMRgaEpPoYHB5gaMApj0LmAgKYKAh6fngq4nFUQMCrRCorJoLN3EhQAljAqCoNAoRQJO1tMVUBXf/96Wyp7//////9Ko/OMOD//NExEgQyHJkAOZSSJhRAgbn00mXxHJQIJU3m9l7ix6Zh2tb1hlanu4WtdJVVQYTOxFYPxR7gk9DHtSeQ4trK442mhbdtflmf/6/9fevRTglmbGiICQAWwhgCzlKobMG//NExFcRaIZQAVoYAAT67alJR6O27NODUYMyZsBqiAWYLSmZAuFxCRQiBighQrUpN3HLFjFKE4g1NtDQw+MMjidxZBACc3Zem79AZs+pMYwUoJTXr+1PrsM2bmZFyuTh//NExGQhuyJoAZqgAeY37/6q/t5mQQ0cuGlq3//V7Ov7X9SnJgnCuXCIEmUCcJ+Aaa/stVWFQA2mFQSocFXSfdKFkThNKZPINWas5fy1zHKeJqUSRrOXBJwZD8PR9FGL//NExDASIWqgAdlAAHxtLhkTlLczxST//1FX3P2PG5t7qvxTvqqQ270QBtUYKadfQESSGiTPl+iz3Lv167yWNVK/Nfutrn/Kv1oxymmGLGSIw7M2v+vf1JzMqQLnz7yi//NExDoRSRKsAMYScFafOqJEFWfcq5DUVbEaoH7IY0gG8dh4A5ZJCTQZJTuDFZClKADk1rg1a3Zf/VeYX28PZ2Ohe2g++p3EwwsoGBk6zrROx+YYZbuqxMu48e26ao3S//NExEcSmZ6oAMrOlMPYYSpuFNKpMa2BAWBiXkgFGVH13UjQAalwAYORghAuuvZmn//5WoZrUVbt5ztv/7/Wpqo4BBVPPaqqq70cSOQgp0UFRPN/5qDv+qoFfIcMpNmO//NExE8R0VKYAMoMlVMbBNoJBUJEgwzgzQiaSxAKSRLLwtcjz7S3essstbpe2f/+9sVdqFEls4VYZtS//z8N1FZoSunuJTqZahzH/VU4gSyYWIATBcmO0hdL5rIFBxEn//NExFoRmQ5gAN4GcN2WhN2DDwZ8uX/lcypfVQK+K7o+QLtBLDQaIgUs+6C62LrLmDLjnoi6/2lG1W6fTRdXV1IxUNMVAQoHGLSB/ouYqDqDqBjS9DclZgHB79yuMs3w//NExGYRqKZUAOYGTN5WK+61LR2CuQigJYJiUFB4hqf7Nydfb+eX/iwBg/sKE0UidjgSoQmIdcBUKMWHQsLDQGPD46DLNSAVHDjrOS8MrMFsRjFAeiY92KzWmkggXCAS//NExHIQKNZkAVtgAOAEjqUzrdgDQJQJWOAgX9Sn4yB7loXcTMe//ZDTAvBMFgUQFoDmD5//14mDIHSXEwJQ0S///95qbkoSjCNhaxgx4E8pkh//++3/jCEoDvOMwU2q//NExIQgyv54AZtoAYgqF/RrzcQci9VeCMraXVe+3y/9bJiYjtUhB6tg3CCcYPHcO155Am9D2B4nwqLxGH44QKdHh7UN1VD9rlJPVNkDQ3N3vaidWVzWVJatR3lM4p9z//NExFMfmwaoAZhYABUztiYPuY2IiqhVvD4iomUEqs8n7v99Oqb6/2nTx8nnO+v/+OOf///uGHG1LzkoDdIK4IKWAwkFSEMcN0NCkt3vsfZltbnSqfELT2UglnsbVKwr//NExCcScRakAdN4AGMwWFQtatVtfW8WkK960+9Zg7WgJYlqqor/2I3f/+osDXiJgTPJjQ35RS5ugvA8FkcOFuUlzG/zlDe/OOy2xXdxr7psKLQU0Y7BMHtF1lD9WvUp//NExDASeQacAM4YcJeJAseQTtZrvRwqbruZsTGEy8zO00t7fRRQVgzi4iIBth+IuKDgOZgN5y0QxtC+in0+6OpekNvnuy38suvgUNa29DgqCkQmnXcUFwIqgibJEvez//NExDkSUQKYANYScOi3J40GJmj////////5/vpqaDnVEDg0QeMOiQhCuyzdQZG0w+pc6CegsjP14m3ajrShlD3PAFQRodzK8dtEdKkXl0KhKGYfiIlKhwgosWIDmQ////NExEISGRacANZGcP/////LcrWN4xwVlExGG2AABEDtzc0QTH2Re6sM76cbuz+aHtSbaWXDiky7ZlgzF8aR+L5IhHnzbm3vPw43DOqGypHaJBldKn6ykBh5AUKD5u6Y//NExEwQCSKYANaGccq0NOyIAw4yFDEKmUdDlkd0qcSbYu2QgQ49xCWBIwYprTbA4T04azI1kb/1NVM4echHbT9FRRkOCn6UdMFawgVphgOM8NygAcMwp4O/GiJJYE24//NExF4QeUaQAN6KcMMddFBASuJ9MPFATvITWaqGBgpWHqVrEW3NipBy0P//1rghKufoXBVyVR4Jvy7Rk4hPc8YAMhi8AN+pqYPihlcRP0CWaLDgsAMlSLsstMDBO+cE//NExG8RUQKIAN5EcIVodFgYC014F2xXVmmnBlkM///8yDDyv/6lLOQzGjcVGccAwTAMXBEFzAlg86FJlFS4wRfd1zAAZGIDqVw6CG0EAOPmRtFKpYvWuwKre4lhY8Jr//NExHwQoP6AAOaKcJDPLJQ5v/teXSJgzAdOgjMnumKL2wywTKhy2ByuhESgJjZ8RA76GJmToJyBWovLD7ktKn8Mu/ctdAJ0SpPf9QtO//WQ////////0DGg1zwEMH7F//NExIwQcJJ4AN7eTOCigwAOPiZ1LTBQY3VaHipvhAZmKArxJjmMAoMBFHi5MghdizfC7QOBmHmsZ/7v9Cr4aP///3/+V9Ke/TUxR+OCbBArGUDxgIsRHBjpE/pkoI0I//NExJ0QeIJ0ANbySFhJG8IEkpGhoprOEQINBdUEIOM4A3xIjyTLyaQ8zM6bhVwuZTHmuigkzpoIj3KZcOkuk6NFSLs1AlFpmCOkuyka1KZ7KZb019ukhbapk01pvXVR//NExK4RGGZoAVsIALK9fvezr2/09B3daK27L91IUK+/0JccZxUwKtOUy/FyzJ0xo2DCQEFs0h5Y7EgqsAw8EA4MJg7DhBguQBmJMuqLDh8CagewLUXTE1Yok8vmJNKI//NExLwgUv5oAZtoAe4cIc0cBqikcdClYdo5UTzl27rTZG9NNSTukktvdnWktJaRqVF00MloqWzpfapFV9GvS0lOyVb/+pXRVVmJRRLoIhMi5d1mJh2ElPqWCz8ypk/A//NExI0huoJkAZpoAPCJ00IA6AlQJCBYVqjet0oHYZOy5x3Vl7oy61VuSKLGQPPFAgZFSrKLvXz+Kaksxq2k8kzGutLNe1dJU8GT4VSBnigUYp7VqYo2dbYpT6L4lKsm//NExFkZ+RpEAdpIAJlCmNO3jyTYdRfUzUxGKTF1FbTR3jVlgxeWAIEBAIa0F84wysUEBAsSCLyjyp1fSGWQiXx/j+yAOgyAqAwAwLhOMYTjAigg7OFhsDXxNI46lmqK//NExEQf0k40AVpAAaKJGM9Cxws2zGNT3Evt2rSbttSNY+KbqkhB0z2sVUbXtxqn3V+9+sTz49rl2N1f7F/Q8a9Mxx7Z3ht21RGB+AGKa+0tla+OrXmrfpp9PU4n17PM//NExBcYQupcAY9QADx6PhY5qb8XDEmLkg/R1/q555AVESLQFQJi0sMiJrP8MQCYkkR7E5JFoYqb//0ZUSfNQ5Cp////oyplhuNx4RmmPOKjEgJ55p7rN4I8DmHEtMLL//NExAkRKq3IAc8oASK6ZiVz7da6////tbmepSylbqX//yldSt/+Y1DeYyCQs6lQPAEUSDweN+b//N/////M8pXUpSsgkHkQUkxBTUUzLjk5LjWqqqqqqqqqTEFNRTMu//NExBcAAANIAAAAADk5LjWqqqqqqqqqqqqqqqqqqqqqqqqqqqqqqqqqqqqqqqqqqqqqqqqqqqqqqqqqqqqqqqqqqqqqqqqqqqqqqqqqqqqqqqqqqqqqqqqqqqqqqqqq//NExGoAAANIAAAAAKqqqqqqqqqqqqqqqqqqqqqqqqqqqqqqqqqqqqqqqqqqqqqqqqqqqqqqqqqqqqqqqqqqqqqqqqqqqqqqqqqqqqqqqqqqqqqqqqqqqqqqqqqqqqqq//NExKwAAANIAAAAAKqqqqqqqqqqqqqqqqqqqqqqqqqqqqqqqqqqqqqqqqqqqqqqqqqqqqqqqqqqqqqqqqqqqqqqqqqqqqqqqqqqqqqqqqqqqqqqqqqqqqqqqqqqqqqq\" type=\"audio/mpeg\" />\n",
       "                    Your browser does not support the audio element.\n",
       "                </audio>\n",
       "              "
      ],
      "text/plain": [
       "<IPython.lib.display.Audio object>"
      ]
     },
     "execution_count": 6,
     "metadata": {},
     "output_type": "execute_result"
    }
   ],
   "source": [
    "IPython.display.Audio(\"output.mp3\")"
   ]
  },
  {
   "cell_type": "code",
   "execution_count": null,
   "metadata": {},
   "outputs": [],
   "source": []
  }
 ],
 "metadata": {
  "kernelspec": {
   "display_name": "Python 3",
   "language": "python",
   "name": "python3"
  },
  "language_info": {
   "codemirror_mode": {
    "name": "ipython",
    "version": 3
   },
   "file_extension": ".py",
   "mimetype": "text/x-python",
   "name": "python",
   "nbconvert_exporter": "python",
   "pygments_lexer": "ipython3",
   "version": "3.7.7"
  }
 },
 "nbformat": 4,
 "nbformat_minor": 4
}
