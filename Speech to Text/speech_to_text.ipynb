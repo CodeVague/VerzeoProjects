{
 "cells": [
  {
   "cell_type": "markdown",
   "metadata": {},
   "source": [
    "# LIVE SPEECH TO TEXT CONVERSION"
   ]
  },
  {
   "cell_type": "markdown",
   "metadata": {},
   "source": [
    "### Install dependencies"
   ]
  },
  {
   "cell_type": "code",
   "execution_count": null,
   "metadata": {},
   "outputs": [],
   "source": [
    "! pip install SpeechRecognition"
   ]
  },
  {
   "cell_type": "code",
   "execution_count": null,
   "metadata": {},
   "outputs": [],
   "source": [
    "# If the command below does not work: \n",
    "! pip install pyaudio\n",
    "\n",
    "# Then the alternative for WINDOWS is:\n",
    "# ! pip install pipwin\n",
    "# ! pipwin install pyaudio"
   ]
  },
  {
   "cell_type": "markdown",
   "metadata": {},
   "source": [
    "### Import Speech Recognition Library"
   ]
  },
  {
   "cell_type": "code",
   "execution_count": null,
   "metadata": {},
   "outputs": [],
   "source": [
    "import speech_recognition as sr"
   ]
  },
  {
   "cell_type": "markdown",
   "metadata": {},
   "source": [
    "### Initialize recognizer class (for Recognizing Speech)"
   ]
  },
  {
   "cell_type": "code",
   "execution_count": null,
   "metadata": {},
   "outputs": [],
   "source": [
    "r = sr.Recognizer()"
   ]
  },
  {
   "cell_type": "markdown",
   "metadata": {},
   "source": [
    "### Check which device to use as a microphone from the given array"
   ]
  },
  {
   "cell_type": "code",
   "execution_count": null,
   "metadata": {},
   "outputs": [],
   "source": [
    "sr.Microphone.list_microphone_names()"
   ]
  },
  {
   "cell_type": "markdown",
   "metadata": {},
   "source": [
    "### Enter the device you want by using array's index in device_index:\n",
    "mic = sr.Microphone(device_index= <array's index>)\n",
    "\n",
    "\n",
    "#### If you want to choose the default option, then do not specify the device_index:\n",
    "mic = sr.Microphone()"
   ]
  },
  {
   "cell_type": "code",
   "execution_count": null,
   "metadata": {},
   "outputs": [],
   "source": [
    "mic = sr.Microphone()"
   ]
  },
  {
   "cell_type": "markdown",
   "metadata": {},
   "source": [
    "#### Set flag for while loop"
   ]
  },
  {
   "cell_type": "code",
   "execution_count": null,
   "metadata": {},
   "outputs": [],
   "source": [
    "flag = \"1\""
   ]
  },
  {
   "cell_type": "markdown",
   "metadata": {},
   "source": [
    "### Enter the required inputs & Speak into the microphone when prompted.\n",
    "` Note: The microphone will record for 8seconds only. If more time is required,\n",
    "        edit the timeout value in r.listen(source, timeout=???)`"
   ]
  },
  {
   "cell_type": "code",
   "execution_count": null,
   "metadata": {},
   "outputs": [],
   "source": [
    "while flag == \"1\":\n",
    "    lang = str(input(\"Choose the language that you want to speak in: \\n1 for English \\n2 for Hindi\\n\"))\n",
    "    if(lang != '1' and lang != '2'):\n",
    "        print(\"Invalid choice\")\n",
    "    else:\n",
    "        with mic as source:\n",
    "            print(\"\\nSpeak...\")\n",
    "            audio_text = r.listen(source, timeout=8) \n",
    "\n",
    "            try:\n",
    "                # Using google speech recognition\n",
    "                if lang == '1':\n",
    "                    print('Converting audio into text...')\n",
    "                    text = r.recognize_google(audio_text, language='en-GB')\n",
    "                    print('-->' + text)\n",
    "\n",
    "                elif lang == '2':\n",
    "                    print('Converting audio into text...')\n",
    "                    text = r.recognize_google(audio_text, language='hi-IN')\n",
    "                    print('-->' + text)\n",
    "\n",
    "            except:\n",
    "                 print('Sorry.. Conversion not possible :( ...')\n",
    "        flag = str(input(\"Try again? 1=Yes, 0=No\\n\"))"
   ]
  },
  {
   "cell_type": "code",
   "execution_count": null,
   "metadata": {},
   "outputs": [],
   "source": []
  }
 ],
 "metadata": {
  "kernelspec": {
   "display_name": "Python 3",
   "language": "python",
   "name": "python3"
  },
  "language_info": {
   "codemirror_mode": {
    "name": "ipython",
    "version": 3
   },
   "file_extension": ".py",
   "mimetype": "text/x-python",
   "name": "python",
   "nbconvert_exporter": "python",
   "pygments_lexer": "ipython3",
   "version": "3.7.7"
  }
 },
 "nbformat": 4,
 "nbformat_minor": 4
}
